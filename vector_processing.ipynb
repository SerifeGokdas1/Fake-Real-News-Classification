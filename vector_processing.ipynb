{
 "cells": [
  {
   "cell_type": "code",
   "execution_count": 3,
   "metadata": {},
   "outputs": [
    {
     "name": "stdout",
     "output_type": "stream",
     "text": [
      "False\n",
      "0\n"
     ]
    }
   ],
   "source": [
    "import torch\n",
    "print(torch.cuda.is_available())  # True dönerse GPU kullanılabilir.\n",
    "print(torch.cuda.device_count())  # GPU sayısını gösterir.\n"
   ]
  },
  {
   "cell_type": "code",
   "execution_count": 1,
   "metadata": {},
   "outputs": [
    {
     "name": "stderr",
     "output_type": "stream",
     "text": [
      "c:\\Users\\Şerife GÖKDAŞ\\AppData\\Local\\Programs\\Python\\Python310\\lib\\site-packages\\tqdm\\auto.py:21: TqdmWarning: IProgress not found. Please update jupyter and ipywidgets. See https://ipywidgets.readthedocs.io/en/stable/user_install.html\n",
      "  from .autonotebook import tqdm as notebook_tqdm\n"
     ]
    },
    {
     "name": "stdout",
     "output_type": "stream",
     "text": [
      "WARNING:tensorflow:From c:\\Users\\Şerife GÖKDAŞ\\AppData\\Local\\Programs\\Python\\Python310\\lib\\site-packages\\tf_keras\\src\\losses.py:2976: The name tf.losses.sparse_softmax_cross_entropy is deprecated. Please use tf.compat.v1.losses.sparse_softmax_cross_entropy instead.\n",
      "\n",
      "Vektörleştirme işlemi tamamlandı ve sonuçlar 'data_vectorized.csv' dosyasına kaydedildi.\n"
     ]
    }
   ],
   "source": [
    "import pandas as pd\n",
    "from sentence_transformers import SentenceTransformer\n",
    "\n",
    "# SBERT modelini yükleyelim\n",
    "model = SentenceTransformer('sentence-transformers/paraphrase-multilingual-MiniLM-L12-v2')\n",
    "\n",
    "# Tokenize edilmiş veriyi okuyalım\n",
    "df = pd.read_csv(\"data_tokenized.csv\")\n",
    "\n",
    "# Tokenize edilmiş başlıkları alalım\n",
    "tokenized_titles = df['Title'].tolist()\n",
    "\n",
    "# Tokenized listeyi string'e dönüştürelim\n",
    "titles_as_strings = [' '.join(eval(tokens)) for tokens in tokenized_titles]\n",
    "\n",
    "# Başlıkları vektörleştirelim\n",
    "vectorized_titles = model.encode(titles_as_strings)\n",
    "\n",
    "# Vektörleri DataFrame'e dönüştürelim\n",
    "vectorized_df = pd.DataFrame(vectorized_titles)\n",
    "vectorized_df['Label'] = df['Label']  # Etiketleri ekleyelim\n",
    "\n",
    "# DataFrame'i kaydedelim\n",
    "vectorized_df.to_csv(\"data_vectorized.csv\", index=False)\n",
    "\n",
    "print(\"Vektörleştirme işlemi tamamlandı ve sonuçlar 'data_vectorized.csv' dosyasına kaydedildi.\")\n"
   ]
  }
 ],
 "metadata": {
  "kernelspec": {
   "display_name": "Python 3",
   "language": "python",
   "name": "python3"
  },
  "language_info": {
   "codemirror_mode": {
    "name": "ipython",
    "version": 3
   },
   "file_extension": ".py",
   "mimetype": "text/x-python",
   "name": "python",
   "nbconvert_exporter": "python",
   "pygments_lexer": "ipython3",
   "version": "3.10.10"
  }
 },
 "nbformat": 4,
 "nbformat_minor": 2
}
